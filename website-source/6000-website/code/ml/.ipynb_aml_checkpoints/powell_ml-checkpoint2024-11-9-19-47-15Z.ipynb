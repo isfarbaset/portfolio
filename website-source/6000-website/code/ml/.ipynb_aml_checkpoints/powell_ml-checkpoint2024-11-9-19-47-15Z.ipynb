{
  "cells": [
    {
      "cell_type": "code",
      "source": [
        "spark"
      ],
      "outputs": [
        {
          "output_type": "display_data",
          "data": {
            "application/vnd.livy.statement-meta+json": {
              "spark_pool": "09c8ba2d-49fa-498b-9d76-d59b947bd032",
              "statement_id": 6,
              "statement_ids": [
                6
              ],
              "state": "finished",
              "livy_statement_state": "available",
              "spark_jobs": {
                "numbers": {
                  "FAILED": 0,
                  "UNKNOWN": 0,
                  "SUCCEEDED": 0,
                  "RUNNING": 0
                },
                "jobs": [],
                "limit": 20,
                "rule": "ALL_DESC"
              },
              "session_id": "55",
              "normalized_state": "finished",
              "queued_time": "2024-12-09T19:32:05.5065523Z",
              "session_start_time": "2024-12-09T19:32:05.6212861Z",
              "execution_start_time": "2024-12-09T19:33:57.0122374Z",
              "execution_finish_time": "2024-12-09T19:33:57.4170234Z",
              "parent_msg_id": "fa23cd55-2ca3-48d2-8d11-71380650fc4f"
            },
            "text/plain": "StatementMeta(09c8ba2d-49fa-498b-9d76-d59b947bd032, 55, 6, Finished, Available, Finished)"
          },
          "metadata": {}
        },
        {
          "output_type": "execute_result",
          "execution_count": 11,
          "data": {
            "text/plain": "<pyspark.sql.session.SparkSession at 0x728ef580b9d0>",
            "text/html": "\n            <div>\n                <p><b>SparkSession - hive</b></p>\n                \n        <div>\n            <p><b>SparkContext</b></p>\n\n            <p><a href=\"http://vm-f6932184:39043\">Spark UI</a></p>\n\n            <dl>\n              <dt>Version</dt>\n                <dd><code>v3.4.3.5.3.20241016.1</code></dd>\n              <dt>Master</dt>\n                <dd><code>yarn</code></dd>\n              <dt>AppName</dt>\n                <dd><code>Azure ML Experiment</code></dd>\n            </dl>\n        </div>\n        \n            </div>\n        "
          },
          "metadata": {}
        }
      ],
      "execution_count": 1,
      "metadata": {
        "gather": {
          "logged": 1733772801361
        }
      }
    },
    {
      "cell_type": "code",
      "source": [
        "from azureml.core import Workspace, Dataset, Datastore\n",
        "\n",
        "subscription_id = '21ff0fc0-dd2c-450d-93b7-96eeb3699b22'\n",
        "resource_group = 'project-group-29'\n",
        "workspace_name = 'project-group-29'\n",
        "\n",
        "workspace = Workspace(subscription_id, resource_group, workspace_name)\n",
        "\n",
        "datastore = Datastore.get(workspace, \"workspaceblobstore\")\n",
        "dataset = Dataset.Tabular.from_parquet_files(path=(datastore, 'states/states_sentiment'))\n",
        "df = dataset.to_spark_dataframe()\n",
        "df.head()"
      ],
      "outputs": [
        {
          "output_type": "display_data",
          "data": {
            "application/vnd.livy.statement-meta+json": {
              "spark_pool": "09c8ba2d-49fa-498b-9d76-d59b947bd032",
              "statement_id": 7,
              "statement_ids": [
                7
              ],
              "state": "finished",
              "livy_statement_state": "available",
              "spark_jobs": {
                "numbers": {
                  "FAILED": 0,
                  "UNKNOWN": 0,
                  "SUCCEEDED": 1,
                  "RUNNING": 0
                },
                "jobs": [
                  {
                    "displayName": "head at /tmp/ipykernel_26019/2394195642.py:12",
                    "dataWritten": 0,
                    "dataRead": 0,
                    "rowCount": 19,
                    "usageDescription": "",
                    "jobId": 0,
                    "name": "head at /tmp/ipykernel_26019/2394195642.py:12",
                    "description": "Job group for statement 7:\nfrom azureml.core import Workspace, Dataset, Datastore\n\nsubscription_id = '21ff0fc0-dd2c-450d-93b7-96eeb3699b22'\nresource_group = 'project-group-29'\nworkspace_name = 'project-group-29'\n\nworkspace = Workspace(subscription_id, resource_group, workspace_name)\n\ndatastore = Datastore.get(workspace, \"workspaceblobstore\")\ndataset = Dataset.Tabular.from_parquet_files(path=(datastore, 'states/states_sentiment'))\ndf = dataset.to_spark_dataframe()\ndf.head()",
                    "submissionTime": "2024-12-09T19:38:03.301GMT",
                    "completionTime": "2024-12-09T19:39:28.335GMT",
                    "stageIds": [
                      0
                    ],
                    "jobGroup": "7",
                    "jobTags": [],
                    "status": "SUCCEEDED",
                    "numTasks": 1,
                    "numActiveTasks": 0,
                    "numCompletedTasks": 1,
                    "numSkippedTasks": 0,
                    "numFailedTasks": 0,
                    "numKilledTasks": 0,
                    "numCompletedIndices": 1,
                    "numActiveStages": 0,
                    "numCompletedStages": 1,
                    "numSkippedStages": 0,
                    "numFailedStages": 0,
                    "killedTasksSummary": {}
                  }
                ],
                "limit": 20,
                "rule": "ALL_DESC"
              },
              "session_id": "55",
              "normalized_state": "finished",
              "queued_time": "2024-12-09T19:32:05.5077527Z",
              "session_start_time": null,
              "execution_start_time": "2024-12-09T19:33:57.5944994Z",
              "execution_finish_time": "2024-12-09T19:39:30.7885572Z",
              "parent_msg_id": "dddfa8ab-35b2-4d53-a949-5310f3023401"
            },
            "text/plain": "StatementMeta(09c8ba2d-49fa-498b-9d76-d59b947bd032, 55, 7, Finished, Available, Finished)"
          },
          "metadata": {}
        },
        {
          "output_type": "stream",
          "name": "stdout",
          "text": "Performing interactive authentication. Please follow the instructions on the terminal.\nTo sign in, use a web browser to open the page https://microsoft.com/devicelogin and enter the code AUDVU2D92 to authenticate.\nInteractive authentication successfully completed.\n{'infer_column_types': 'False', 'activity': 'to_spark_dataframe'}\n{'infer_column_types': 'False', 'activity': 'to_spark_dataframe', 'activityApp': 'TabularDataset'}\n{'infer_column_types': 'False', 'activity': 'to_spark_dataframe', 'activityApp': 'TabularDataset', 'runId': '23137735-185a-436e-b332-97b921c8fadf'}\n{'infer_column_types': 'False', 'activity': 'to_spark_dataframe', 'activityApp': 'TabularDataset', 'runId': '23137735-185a-436e-b332-97b921c8fadf', 'run_id': '23137735-185a-436e-b332-97b921c8fadf'}\n"
        },
        {
          "output_type": "execute_result",
          "execution_count": 13,
          "data": {
            "text/plain": "Row(author='fireweedflowers', text='I live in Colorado these days but I was born and raised in Wyoming and was emphatically a socialist.', controversiality=0, created_utc=1701619261, distinguished=None, edited=None, gilded=0, id='kbtqz1h', parent_id='t3_187jmr5', score=1, subreddit='wyoming', subreddit_id='t5_2r53d', alaska=False, alabama=False, arkansas=False, american samoa=False, arizona=False, california=False, colorado=True, connecticut=False, district of columbia=False, delaware=False, florida=False, georgia=False, guam=False, hawaii=False, iowa=False, idaho=False, illinois=False, indiana=False, kansas=False, kentucky=False, louisiana=False, massachusetts=False, maryland=False, maine=False, michigan=False, minnesota=False, missouri=False, mississippi=False, montana=False, north carolina=False, north dakota=False, nebraska=False, new hampshire=False, new jersey=False, new mexico=False, nevada=False, new york=False, ohio=False, oklahoma=False, oregon=False, pennsylvania=False, puerto rico=False, rhode island=False, south carolina=False, south dakota=False, tennessee=False, texas=False, utah=False, virginia=False, virgin islands=False, vermont=False, washington=False, wisconsin=False, west virginia=False, wyoming=True, sentiment_num=1)"
          },
          "metadata": {}
        }
      ],
      "execution_count": 2,
      "metadata": {
        "jupyter": {
          "source_hidden": false,
          "outputs_hidden": false
        },
        "nteract": {
          "transient": {
            "deleting": false
          }
        },
        "gather": {
          "logged": 1733773134711
        }
      }
    },
    {
      "cell_type": "code",
      "source": [
        "#df.printSchema()\n",
        "df.show()"
      ],
      "outputs": [
        {
          "output_type": "display_data",
          "data": {
            "application/vnd.livy.statement-meta+json": {
              "spark_pool": "09c8ba2d-49fa-498b-9d76-d59b947bd032",
              "statement_id": 8,
              "statement_ids": [
                8
              ],
              "state": "submitted",
              "livy_statement_state": "running",
              "spark_jobs": {
                "numbers": {
                  "FAILED": 0,
                  "UNKNOWN": 0,
                  "SUCCEEDED": 0,
                  "RUNNING": 1
                },
                "jobs": [
                  {
                    "displayName": "showString at NativeMethodAccessorImpl.java:0",
                    "dataWritten": 0,
                    "dataRead": 0,
                    "rowCount": 0,
                    "usageDescription": "",
                    "jobId": 1,
                    "name": "showString at NativeMethodAccessorImpl.java:0",
                    "description": "Job group for statement 8:\n#df.printSchema()\ndf.show()",
                    "submissionTime": "2024-12-09T19:39:31.841GMT",
                    "stageIds": [
                      1
                    ],
                    "jobGroup": "8",
                    "jobTags": [],
                    "status": "RUNNING",
                    "numTasks": 1,
                    "numActiveTasks": 1,
                    "numCompletedTasks": 0,
                    "numSkippedTasks": 0,
                    "numFailedTasks": 0,
                    "numKilledTasks": 0,
                    "numCompletedIndices": 0,
                    "numActiveStages": 1,
                    "numCompletedStages": 0,
                    "numSkippedStages": 0,
                    "numFailedStages": 0,
                    "killedTasksSummary": {}
                  }
                ],
                "limit": 20,
                "rule": "ALL_DESC"
              },
              "session_id": "55",
              "normalized_state": "running",
              "queued_time": "2024-12-09T19:32:05.5088928Z",
              "session_start_time": null,
              "execution_start_time": "2024-12-09T19:39:30.9520027Z",
              "execution_finish_time": null,
              "parent_msg_id": "4ea49da5-12a5-4901-9a67-f489d9acb217"
            },
            "text/plain": "StatementMeta(09c8ba2d-49fa-498b-9d76-d59b947bd032, 55, 8, Submitted, Running, Running)"
          },
          "metadata": {}
        }
      ],
      "execution_count": 3,
      "metadata": {
        "jupyter": {
          "source_hidden": false,
          "outputs_hidden": true
        },
        "nteract": {
          "transient": {
            "deleting": false
          }
        },
        "gather": {
          "logged": 1733708231391
        }
      }
    },
    {
      "cell_type": "code",
      "source": [
        "from pyspark.ml import Pipeline\n",
        "from pyspark.ml.feature import HashingTF, IDF, Tokenizer, VectorAssembler\n",
        "from pyspark.ml.regression import LinearRegression\n",
        "\n",
        "state_names = [\"Alaska\", \"Alabama\", \"Arkansas\", \"American Samoa\", \"Arizona\", \"California\", \n",
        "\"Colorado\", \"Connecticut\", \"District of Columbia\", \"Delaware\", \"Florida\", \"Georgia\", \"Guam\", \n",
        "\"Hawaii\", \"Iowa\", \"Idaho\", \"Illinois\", \"Indiana\", \"Kansas\", \"Kentucky\", \"Louisiana\", \n",
        "\"Massachusetts\", \"Maryland\", \"Maine\", \"Michigan\", \"Minnesota\", \"Missouri\", \"Mississippi\", \n",
        "\"Montana\", \"North Carolina\", \"North Dakota\", \"Nebraska\", \"New Hampshire\", \"New Jersey\", \n",
        "\"New Mexico\", \"Nevada\", \"New York\", \"Ohio\", \"Oklahoma\", \"Oregon\", \"Pennsylvania\", \"Puerto Rico\", \n",
        "\"Rhode Island\", \"South Carolina\", \"South Dakota\", \"Tennessee\", \"Texas\", \"Utah\", \"Virginia\", \n",
        "\"Virgin Islands\", \"Vermont\", \"Washington\", \"Wisconsin\", \"West Virginia\", \"Wyoming\"]\n",
        "state_names = [x.lower() for x in state_names]\n",
        "\n",
        "state_names.append(\"sentiment_num\")\n",
        "state_names.append(\"rawFeatures\")\n",
        "\n",
        "tokenizer = Tokenizer(inputCol=\"text\", outputCol=\"words\")\n",
        "hashingTF = HashingTF(inputCol=\"words\", outputCol=\"rawFeatures\", numFeatures=1000)\n",
        "idf = VectorAssembler(inputCols= state_names, outputCol=\"features\")\n",
        "\n",
        "lr = LinearRegression(featuresCol=\"features\", labelCol=\"score\")\n",
        "\n",
        "pipeline = Pipeline(stages=[tokenizer, hashingTF, idf, lr])"
      ],
      "outputs": [
        {
          "output_type": "display_data",
          "data": {
            "application/vnd.livy.statement-meta+json": {
              "spark_pool": null,
              "statement_id": null,
              "statement_ids": null,
              "state": "cancelled",
              "livy_statement_state": null,
              "spark_jobs": null,
              "session_id": null,
              "normalized_state": "cancelled",
              "queued_time": "2024-12-09T19:32:05.5100291Z",
              "session_start_time": null,
              "execution_start_time": null,
              "execution_finish_time": "2024-12-09T19:37:34.2858995Z",
              "parent_msg_id": "fb3394a1-2f7f-4079-84be-320b0a569f60"
            },
            "text/plain": "StatementMeta(, , , Cancelled, , Cancelled)"
          },
          "metadata": {}
        }
      ],
      "execution_count": null,
      "metadata": {
        "jupyter": {
          "source_hidden": false,
          "outputs_hidden": false
        },
        "nteract": {
          "transient": {
            "deleting": false
          }
        },
        "gather": {
          "logged": 1733773018015
        }
      }
    },
    {
      "cell_type": "code",
      "source": [
        "(trainingData, testData) = df.randomSplit([0.7, 0.3])\n",
        "\n",
        "model = pipeline.fit(trainingData)\n",
        "predictions = model.transform(testData)"
      ],
      "outputs": [
        {
          "output_type": "display_data",
          "data": {
            "application/vnd.livy.statement-meta+json": {
              "spark_pool": null,
              "statement_id": null,
              "statement_ids": null,
              "state": "cancelled",
              "livy_statement_state": null,
              "spark_jobs": null,
              "session_id": null,
              "normalized_state": "cancelled",
              "queued_time": "2024-12-09T19:32:05.511231Z",
              "session_start_time": null,
              "execution_start_time": null,
              "execution_finish_time": "2024-12-09T19:37:36.0570893Z",
              "parent_msg_id": "22be6b89-af32-4dc7-8124-edc9177050d1"
            },
            "text/plain": "StatementMeta(, , , Cancelled, , Cancelled)"
          },
          "metadata": {}
        }
      ],
      "execution_count": null,
      "metadata": {
        "jupyter": {
          "source_hidden": false,
          "outputs_hidden": false
        },
        "nteract": {
          "transient": {
            "deleting": false
          }
        },
        "gather": {
          "logged": 1733773019831
        }
      }
    },
    {
      "cell_type": "code",
      "source": [
        "datastore = 'azureml://datastores/workspaceblobstore/paths'\n",
        "model.save(f\"{datastore}/models/ml_model_score_prediction\")"
      ],
      "outputs": [
        {
          "output_type": "display_data",
          "data": {
            "application/vnd.livy.statement-meta+json": {
              "spark_pool": null,
              "statement_id": null,
              "statement_ids": null,
              "state": "cancelled",
              "livy_statement_state": null,
              "spark_jobs": null,
              "session_id": null,
              "normalized_state": "cancelled",
              "queued_time": "2024-12-09T19:32:05.5124419Z",
              "session_start_time": null,
              "execution_start_time": null,
              "execution_finish_time": "2024-12-09T19:37:37.3154732Z",
              "parent_msg_id": "b3cc470b-4fb7-4254-93b1-b34aacc7556f"
            },
            "text/plain": "StatementMeta(, , , Cancelled, , Cancelled)"
          },
          "metadata": {}
        }
      ],
      "execution_count": null,
      "metadata": {
        "jupyter": {
          "source_hidden": false,
          "outputs_hidden": false
        },
        "nteract": {
          "transient": {
            "deleting": false
          }
        },
        "gather": {
          "logged": 1733773021082
        }
      }
    },
    {
      "cell_type": "code",
      "source": [
        "from pyspark.ml import PipelineModel\n",
        "PipelineModel.load(f\"{datastore}/models/ml_model_score_prediction\") \n",
        "evaluator = RegressionEvaluator(labelCol=\"score\", predictionCol=\"prediction\", metricName=\"rmse\")\n",
        "rmse = evaluator.evaluate(predictions)\n",
        "print(\"Root Mean Squared Error (RMSE) on test data = %g\" % rmse)"
      ],
      "outputs": [
        {
          "output_type": "display_data",
          "data": {
            "application/vnd.livy.statement-meta+json": {
              "spark_pool": null,
              "statement_id": null,
              "statement_ids": null,
              "state": "cancelled",
              "livy_statement_state": null,
              "spark_jobs": null,
              "session_id": null,
              "normalized_state": "cancelled",
              "queued_time": "2024-12-09T19:32:05.5138003Z",
              "session_start_time": null,
              "execution_start_time": null,
              "execution_finish_time": "2024-12-09T19:37:38.7518388Z",
              "parent_msg_id": "79a3bfbc-6218-4a84-aa7e-fb166671f40e"
            },
            "text/plain": "StatementMeta(, , , Cancelled, , Cancelled)"
          },
          "metadata": {}
        }
      ],
      "execution_count": null,
      "metadata": {
        "jupyter": {
          "source_hidden": false,
          "outputs_hidden": false
        },
        "nteract": {
          "transient": {
            "deleting": false
          }
        },
        "gather": {
          "logged": 1733773022518
        }
      }
    },
    {
      "cell_type": "code",
      "source": [
        "from pyspark.ml.evaluation import RegressionEvaluator\n",
        "from pyspark.ml import PipelineModel\n",
        "from pyspark.ml import Pipeline\n",
        "from pyspark.ml.feature import HashingTF, IDF, Tokenizer, VectorAssembler\n",
        "from pyspark.ml.regression import LinearRegression\n",
        "\n",
        "tokenizer = Tokenizer(inputCol=\"text\", outputCol=\"words\")\n",
        "hashingTF = HashingTF(inputCol=\"words\", outputCol=\"rawFeatures\", numFeatures=1000)\n",
        "idf = VectorAssembler(inputCols= state_names, outputCol=\"features\")\n",
        "\n",
        "lr = LinearRegression(featuresCol=\"features\", labelCol=\"score\")\n",
        "\n",
        "pipeline = Pipeline(stages=[tokenizer, hashingTF, idf, lr])\n",
        "\n",
        "(trainingData, testData) = df.randomSplit([0.7, 0.3])\n",
        "\n",
        "model = pipeline.fit(trainingData)\n",
        "predictions = model.transform(testData)\n",
        "\n",
        "PipelineModel.load(f\"{datastore}/models/ml_model_score_prediction\") \n",
        "evaluator = RegressionEvaluator(labelCol=\"score\", predictionCol=\"prediction\", metricName=\"rmse\")\n",
        "rmse = evaluator.evaluate(predictions)\n",
        "print(\"Root Mean Squared Error (RMSE) on test data = %g\" % rmse)"
      ],
      "outputs": [
        {
          "output_type": "display_data",
          "data": {
            "application/vnd.livy.statement-meta+json": {
              "spark_pool": null,
              "statement_id": null,
              "statement_ids": null,
              "state": "cancelled",
              "livy_statement_state": null,
              "spark_jobs": null,
              "session_id": null,
              "normalized_state": "cancelled",
              "queued_time": "2024-12-09T19:32:05.5153067Z",
              "session_start_time": null,
              "execution_start_time": null,
              "execution_finish_time": "2024-12-09T19:37:51.694109Z",
              "parent_msg_id": "0dcd80e2-c263-4d49-831b-bd246638267c"
            },
            "text/plain": "StatementMeta(, , , Cancelled, , Cancelled)"
          },
          "metadata": {}
        }
      ],
      "execution_count": null,
      "metadata": {
        "jupyter": {
          "source_hidden": false,
          "outputs_hidden": false
        },
        "nteract": {
          "transient": {
            "deleting": false
          }
        },
        "gather": {
          "logged": 1733773035457
        }
      }
    }
  ],
  "metadata": {
    "kernelspec": {
      "name": "synapse_pyspark",
      "language": "Python",
      "display_name": "Synapse PySpark"
    },
    "language_info": {
      "name": "python",
      "version": "3.8.0",
      "mimetype": "text/x-python",
      "file_extension": ".py",
      "pygments_lexer": "ipython",
      "codemirror_mode": "ipython",
      "nbconvert_exporter": "python"
    },
    "microsoft": {
      "ms_spell_check": {
        "ms_spell_check_language": "en"
      },
      "host": {
        "AzureML": {
          "notebookHasBeenCompleted": true
        }
      }
    },
    "kernel_info": {
      "name": "synapse_pyspark"
    },
    "nteract": {
      "version": "nteract-front-end@1.0.0"
    }
  },
  "nbformat": 4,
  "nbformat_minor": 2
}