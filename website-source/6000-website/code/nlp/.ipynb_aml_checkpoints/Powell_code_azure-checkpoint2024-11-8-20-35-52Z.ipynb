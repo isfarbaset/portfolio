{
  "cells": [
    {
      "cell_type": "code",
      "source": [
        "from azure.ai.ml import MLClient, spark, Input, Output\n",
        "from azure.identity import DefaultAzureCredential\n",
        "from azure.ai.ml.entities import UserIdentityConfiguration\n",
        "\n",
        "azureml_client = MLClient.from_config(\n",
        "    DefaultAzureCredential(),\n",
        ")\n",
        "\n",
        "ml_client = MLClient(\n",
        "    credential=DefaultAzureCredential(),\n",
        "    workspace_name='project-group-29',\n",
        "    subscription_id=\"21ff0fc0-dd2c-450d-93b7-96eeb3699b22\",\n",
        "    resource_group_name='project-group-29'\n",
        ")\n"
      ],
      "outputs": [
        {
          "output_type": "stream",
          "name": "stderr",
          "text": "Found the config file in: /config.json\n"
        }
      ],
      "execution_count": 1,
      "metadata": {
        "gather": {
          "logged": 1733501328398
        }
      }
    },
    {
      "cell_type": "code",
      "source": [
        "# Download the spark-nlp jar and save it locally. This needs to be done before submitting a job.\n",
        "import requests\n",
        "response = requests.get(\"https://s3.amazonaws.com/auxdata.johnsnowlabs.com/public/jars/spark-nlp-assembly-5.0.2.jar\")\n",
        "with open(\"spark-nlp-assembly-5.0.2.jar\", \"wb\") as f:\n",
        "    f.write(response.content)\n"
      ],
      "outputs": [],
      "execution_count": 2,
      "metadata": {
        "jupyter": {
          "source_hidden": false,
          "outputs_hidden": false
        },
        "nteract": {
          "transient": {
            "deleting": false
          }
        },
        "gather": {
          "logged": 1733456355893
        }
      }
    },
    {
      "cell_type": "code",
      "source": [
        "job1_comments = spark(\n",
        "    description=\"westies-comments\",\n",
        "    code=\"./\",\n",
        "    entry={\"file\": \"Azure_job.py\"},\n",
        "    driver_cores=1,\n",
        "    driver_memory=\"7g\",\n",
        "    executor_cores=4,\n",
        "    executor_memory=\"7g\",\n",
        "    executor_instances=6,\n",
        "    resources={\n",
        "        \"instance_type\": \"Standard_E4S_V3\",\n",
        "        \"runtime_version\": \"3.3\",\n",
        "    },\n",
        "    inputs={       \n",
        "        \"input_object_store_base_url\": \"wasbs://reddit-project@dsan6000fall2024.blob.core.windows.net/\",\n",
        "        \"input_path\": \"202306-202407/comments/\",\n",
        "        \"output_object_store_base_url\": \"azureml://datastores/workspaceblobstore/paths/\",\n",
        "        \"output_path\": \"states/comments/\",\n",
        "    },\n",
        "    identity=UserIdentityConfiguration(),\n",
        "    args=\"--input_object_store_base_url ${{inputs.input_object_store_base_url}} --input_path ${{inputs.input_path}} --output_object_store_base_url ${{inputs.output_object_store_base_url}} --output_path ${{inputs.output_path}}\"\n",
        ")"
      ],
      "outputs": [],
      "execution_count": 2,
      "metadata": {
        "jupyter": {
          "source_hidden": false,
          "outputs_hidden": false
        },
        "nteract": {
          "transient": {
            "deleting": false
          }
        },
        "gather": {
          "logged": 1733372062055
        }
      }
    },
    {
      "cell_type": "code",
      "source": [
        "job1_object = azureml_client.jobs.create_or_update(job1_comments)"
      ],
      "outputs": [
        {
          "output_type": "stream",
          "name": "stderr",
          "text": "Your file exceeds 100 MB. If you experience low speeds, latency, or broken connections, we recommend using the AzCopyv10 tool for this file transfer.\n\nExample: azcopy copy '/mnt/batch/tasks/shared/LS_root/mounts/clusters/prs64-ci01/code/Users/prs64/fall-2024-project-team-29/code/Powell Work' 'https://projectgstorageef8131633.blob.core.windows.net/ab2acca4-77bf-4607-9fc6-941bb7fd6768-85muyothwijkqjxwcppomsyeon/Powell Work' \n\nSee https://docs.microsoft.com/azure/storage/common/storage-use-azcopy-v10 for more information.\n\u001b[32mUploading Powell Work (612.24 MBs): 100%|██████████| 612237814/612237814 [00:01<00:00, 576585836.83it/s]\n\u001b[39m\n\n"
        }
      ],
      "execution_count": 17,
      "metadata": {
        "jupyter": {
          "source_hidden": false,
          "outputs_hidden": false
        },
        "nteract": {
          "transient": {
            "deleting": false
          }
        },
        "gather": {
          "logged": 1733346084918
        }
      }
    },
    {
      "cell_type": "code",
      "source": [
        "job2_comments = spark(\n",
        "    description=\"states_averages_round_2\",\n",
        "    code=\"./\",\n",
        "    entry={\"file\": \"Sentiment_mean_job.py\"},\n",
        "    driver_cores=1,\n",
        "    driver_memory=\"7g\",\n",
        "    executor_cores=4,\n",
        "    executor_memory=\"7g\",\n",
        "    executor_instances=6,\n",
        "    resources={\n",
        "        \"instance_type\": \"Standard_E4S_V3\",\n",
        "        \"runtime_version\": \"3.4\",\n",
        "    },\n",
        "    inputs={\n",
        "        \"input_data\": Input(\n",
        "            type=\"uri_folder\",\n",
        "            path=\"azureml://datastores/workspaceblobstore/paths/states/comments/\",\n",
        "            mode=\"direct\",\n",
        "        ),\n",
        "    },\n",
        "    jars=[\"spark-nlp-assembly-5.0.2.jar\"],\n",
        "    environment=\"sparknlp-python-env@latest\",\n",
        "    identity=UserIdentityConfiguration(),\n",
        "    args=\"--input_data ${{inputs.input_data}}\"\n",
        ")\n"
      ],
      "outputs": [],
      "execution_count": 5,
      "metadata": {
        "jupyter": {
          "source_hidden": false,
          "outputs_hidden": false
        },
        "nteract": {
          "transient": {
            "deleting": false
          }
        },
        "gather": {
          "logged": 1733456991439
        }
      }
    },
    {
      "cell_type": "code",
      "source": [
        "job2_object = azureml_client.jobs.create_or_update(job2_comments)"
      ],
      "outputs": [
        {
          "output_type": "stream",
          "name": "stderr",
          "text": "Your file exceeds 100 MB. If you experience low speeds, latency, or broken connections, we recommend using the AzCopyv10 tool for this file transfer.\n\nExample: azcopy copy '/mnt/batch/tasks/shared/LS_root/mounts/clusters/prs64-ci01/code/Users/prs64/fall-2024-project-team-29/code/Powell Work' 'https://projectgstorageef8131633.blob.core.windows.net/ab2acca4-77bf-4607-9fc6-941bb7fd6768-ot8fy5s5x2lgloowvkw7evj0i2/Powell Work' \n\nSee https://docs.microsoft.com/azure/storage/common/storage-use-azcopy-v10 for more information.\n\u001b[32mUploading Powell Work (1320.43 MBs): 100%|██████████| 1320427232/1320427232 [00:07<00:00, 169504198.39it/s]\n\u001b[39m\n\n"
        }
      ],
      "execution_count": 6,
      "metadata": {
        "jupyter": {
          "source_hidden": false,
          "outputs_hidden": false
        },
        "nteract": {
          "transient": {
            "deleting": false
          }
        },
        "gather": {
          "logged": 1733457051167
        }
      }
    },
    {
      "cell_type": "code",
      "source": [
        "job3_comments = spark(\n",
        "    description=\"states_averages\",\n",
        "    code=\"./\",\n",
        "    entry={\"file\": \"averages.py\"},\n",
        "    driver_cores=1,\n",
        "    driver_memory=\"7g\",\n",
        "    executor_cores=4,\n",
        "    executor_memory=\"7g\",\n",
        "    executor_instances=6,\n",
        "    resources={\n",
        "        \"instance_type\": \"Standard_E4S_V3\",\n",
        "        \"runtime_version\": \"3.4\",\n",
        "    },\n",
        "    inputs={\n",
        "        \"input_data\": Input(\n",
        "            type=\"uri_folder\",\n",
        "            path=\"azureml://datastores/workspaceblobstore/paths/states/states_sentiment\",\n",
        "            mode=\"direct\",\n",
        "        ),\n",
        "    },\n",
        "    environment=\"sparknlp-python-env@latest\",\n",
        "    identity=UserIdentityConfiguration(),\n",
        "    args=\"--input_data ${{inputs.input_data}}\"\n",
        ")\n"
      ],
      "outputs": [],
      "execution_count": 2,
      "metadata": {
        "jupyter": {
          "source_hidden": false,
          "outputs_hidden": false
        },
        "nteract": {
          "transient": {
            "deleting": false
          }
        },
        "gather": {
          "logged": 1733501344968
        }
      }
    },
    {
      "cell_type": "code",
      "source": [
        "job3_object = azureml_client.jobs.create_or_update(job3_comments)"
      ],
      "outputs": [
        {
          "output_type": "stream",
          "name": "stderr",
          "text": "Class AutoDeleteSettingSchema: This is an experimental class, and may change at any time. Please see https://aka.ms/azuremlexperimental for more information.\nClass AutoDeleteConditionSchema: This is an experimental class, and may change at any time. Please see https://aka.ms/azuremlexperimental for more information.\nClass BaseAutoDeleteSettingSchema: This is an experimental class, and may change at any time. Please see https://aka.ms/azuremlexperimental for more information.\nClass IntellectualPropertySchema: This is an experimental class, and may change at any time. Please see https://aka.ms/azuremlexperimental for more information.\nClass ProtectionLevelSchema: This is an experimental class, and may change at any time. Please see https://aka.ms/azuremlexperimental for more information.\nClass BaseIntellectualPropertySchema: This is an experimental class, and may change at any time. Please see https://aka.ms/azuremlexperimental for more information.\nYour file exceeds 100 MB. If you experience low speeds, latency, or broken connections, we recommend using the AzCopyv10 tool for this file transfer.\n\nExample: azcopy copy '/mnt/batch/tasks/shared/LS_root/mounts/clusters/prs64-ci01/code/Users/prs64/fall-2024-project-team-29/code/Powell Work' 'https://projectgstorageef8131633.blob.core.windows.net/ab2acca4-77bf-4607-9fc6-941bb7fd6768-myjjlv8qeh9fgm10i46sa6b6ol/Powell Work' \n\nSee https://docs.microsoft.com/azure/storage/common/storage-use-azcopy-v10 for more information.\n\u001b[32mUploading Powell Work (1320.43 MBs): 100%|██████████| 1320426264/1320426264 [00:08<00:00, 158566823.73it/s]\n\u001b[39m\n\n"
        }
      ],
      "execution_count": 3,
      "metadata": {
        "jupyter": {
          "source_hidden": false,
          "outputs_hidden": false
        },
        "nteract": {
          "transient": {
            "deleting": false
          }
        },
        "gather": {
          "logged": 1733501410002
        }
      }
    },
    {
      "cell_type": "code",
      "source": [
        "job4_comments = spark(\n",
        "    description=\"states_averages\",\n",
        "    code=\"./\",\n",
        "    entry={\"file\": \"top_words_by_state.py\"},\n",
        "    driver_cores=1,\n",
        "    driver_memory=\"7g\",\n",
        "    executor_cores=4,\n",
        "    executor_memory=\"7g\",\n",
        "    executor_instances=6,\n",
        "    resources={\n",
        "        \"instance_type\": \"Standard_E4S_V3\",\n",
        "        \"runtime_version\": \"3.4\",\n",
        "    },\n",
        "    inputs={\n",
        "        \"input_data\": Input(\n",
        "            type=\"uri_folder\",\n",
        "            path=\"azureml://datastores/workspaceblobstore/paths/states/states_sentiment\",\n",
        "            mode=\"direct\",\n",
        "        ),\n",
        "    },\n",
        "    environment=\"sparknlp-python-env@latest\",\n",
        "    identity=UserIdentityConfiguration(),\n",
        "    args=\"--input_data ${{inputs.input_data}}\"\n",
        ")\n"
      ],
      "outputs": [],
      "execution_count": null,
      "metadata": {
        "jupyter": {
          "source_hidden": false,
          "outputs_hidden": false
        },
        "nteract": {
          "transient": {
            "deleting": false
          }
        }
      }
    },
    {
      "cell_type": "code",
      "source": [
        "job4_object = azureml_client.jobs.create_or_update(job4_comments)"
      ],
      "outputs": [],
      "execution_count": null,
      "metadata": {
        "jupyter": {
          "source_hidden": false,
          "outputs_hidden": false
        },
        "nteract": {
          "transient": {
            "deleting": false
          }
        }
      }
    }
  ],
  "metadata": {
    "kernelspec": {
      "name": "python310-sdkv2",
      "language": "python",
      "display_name": "Python 3.10 - SDK v2"
    },
    "language_info": {
      "name": "python",
      "version": "3.10.14",
      "mimetype": "text/x-python",
      "codemirror_mode": {
        "name": "ipython",
        "version": 3
      },
      "pygments_lexer": "ipython3",
      "nbconvert_exporter": "python",
      "file_extension": ".py"
    },
    "microsoft": {
      "ms_spell_check": {
        "ms_spell_check_language": "en"
      },
      "host": {
        "AzureML": {
          "notebookHasBeenCompleted": true
        }
      }
    },
    "kernel_info": {
      "name": "python310-sdkv2"
    },
    "nteract": {
      "version": "nteract-front-end@1.0.0"
    }
  },
  "nbformat": 4,
  "nbformat_minor": 2
}