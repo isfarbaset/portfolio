{
 "cells": [
  {
   "cell_type": "markdown",
   "metadata": {},
   "source": [
    "## Wikipedia Crawl example\n",
    "\n",
    "Author: J. Hickman\n",
    "\n",
    "- This code crawls through wikipedia to get a bunch of text data\n",
    "- The code lets the user specify search category topics.\n",
    "  - The more different the topics are, the easier the classification will be.\n",
    "  - For example, i used (pizza, metallurgy, basketball)\n",
    "- It then searches wikipedia for articles related to these topics\n",
    "- Loops over the wikipedia pages and gets the text from the wikipedia pages\n",
    "- Breaks the text into chunks (based on a user input specifying the number of sentences per chunk)\n",
    "- Each chunk is cleaned and tagged with a \"label\" (classification) and a numeric \"sentiment score\" (regression)\n",
    "- These cleaned chunks form a corpus of strings with associated tags\n",
    "\n",
    "```\n",
    "python -m pip install wikipedia_sections\n",
    "```"
   ]
  },
  {
   "cell_type": "markdown",
   "metadata": {},
   "source": [
    "### Import"
   ]
  },
  {
   "cell_type": "code",
   "execution_count": 1,
   "metadata": {},
   "outputs": [],
   "source": [
    "# conda install -c conda-forge wikipedia\n",
    "# conda install -c conda-forge wordcloud\n",
    "# python -m pip install wikipedia_sections\n",
    "\n",
    "import wikipedia\n",
    "import nltk\n",
    "import string \n",
    "from nltk.stem import WordNetLemmatizer\n",
    "from nltk.stem import PorterStemmer\n",
    "from nltk.sentiment import SentimentIntensityAnalyzer\n",
    "import pandas as pd\n",
    "from sklearn.feature_extraction.text import CountVectorizer\n",
    "import numpy as np\n"
   ]
  },
  {
   "cell_type": "code",
   "execution_count": 2,
   "metadata": {},
   "outputs": [
    {
     "name": "stderr",
     "output_type": "stream",
     "text": [
      "[nltk_data] Downloading package vader_lexicon to\n",
      "[nltk_data]     /Users/isfarbaset/nltk_data...\n",
      "[nltk_data]   Package vader_lexicon is already up-to-date!\n",
      "[nltk_data] Downloading package punkt to\n",
      "[nltk_data]     /Users/isfarbaset/nltk_data...\n",
      "[nltk_data]   Package punkt is already up-to-date!\n",
      "[nltk_data] Downloading package wordnet to\n",
      "[nltk_data]     /Users/isfarbaset/nltk_data...\n",
      "[nltk_data]   Package wordnet is already up-to-date!\n",
      "[nltk_data] Downloading package omw-1.4 to\n",
      "[nltk_data]     /Users/isfarbaset/nltk_data...\n",
      "[nltk_data]   Package omw-1.4 is already up-to-date!\n"
     ]
    },
    {
     "data": {
      "text/plain": [
       "True"
      ]
     },
     "execution_count": 2,
     "metadata": {},
     "output_type": "execute_result"
    }
   ],
   "source": [
    "# RUN THE FOLLOWING IF YOU HAVEN'T DOWNLOADED THESE BEFORE\n",
    "nltk.download('vader_lexicon')\n",
    "nltk.download('punkt')\n",
    "nltk.download('wordnet')\n",
    "nltk.download('omw-1.4')"
   ]
  },
  {
   "cell_type": "markdown",
   "metadata": {},
   "source": [
    "### Set user parameters "
   ]
  },
  {
   "cell_type": "code",
   "execution_count": 3,
   "metadata": {},
   "outputs": [],
   "source": [
    "# PARAMETERS \n",
    "label_list=['electric vehicle','gasoline vehicle','hybrid vehicle']\n",
    "max_num_pages=25\n",
    "sentence_per_chunk=5\n",
    "min_sentence_length=20\n",
    "\n",
    "# GET STOPWORDS\n",
    "# from nltk.corpus import stopwords\n",
    "stop_words=nltk.corpus.stopwords.words('english')\n",
    "\n",
    "# INITALIZE STEMMER+LEMITZIZER+SIA\n",
    "sia = SentimentIntensityAnalyzer()\n",
    "stemmer = PorterStemmer()\n",
    "lemmatizer = WordNetLemmatizer()"
   ]
  },
  {
   "cell_type": "markdown",
   "metadata": {},
   "source": [
    "### Define text cleaning function"
   ]
  },
  {
   "cell_type": "code",
   "execution_count": 4,
   "metadata": {},
   "outputs": [],
   "source": [
    "def clean_string(text):\n",
    "\t# #FILTER OUT UNWANTED CHAR\n",
    "\tnew_text=\"\"\n",
    "\t# keep=string.printable\n",
    "\tkeep=\" abcdefghijklmnopqrstuvwxyz0123456789\"\n",
    "\tfor character in text:\n",
    "\t\tif character.lower() in keep:\n",
    "\t\t\tnew_text+=character.lower()\n",
    "\t\telse: \n",
    "\t\t\tnew_text+=\" \"\n",
    "\ttext=new_text\n",
    "\t# print(text)\n",
    "\n",
    "\t# #FILTER OUT UNWANTED WORDS\n",
    "\tnew_text=\"\"\n",
    "\tfor word in nltk.tokenize.word_tokenize(text):\n",
    "\t\tif word not in nltk.corpus.stopwords.words('english'):\n",
    "\t\t\t#lemmatize \n",
    "\t\t\ttmp=lemmatizer.lemmatize(word)\n",
    "\t\t\t# tmp=stemmer.stem(tmp)\n",
    "\n",
    "\t\t\t# update word if there is a change\n",
    "\t\t\t# if(tmp!=word): print(tmp,word)\n",
    "\t\t\t\n",
    "\t\t\tword=tmp\n",
    "\t\t\tif len(word)>1:\n",
    "\t\t\t\tif word in [\".\",\",\",\"!\",\"?\",\":\",\";\"]:\n",
    "\t\t\t\t\t#remove the last space\n",
    "\t\t\t\t\tnew_text=new_text[0:-1]+word+\" \"\n",
    "\t\t\t\telse: #add a space\n",
    "\t\t\t\t\tnew_text+=word.lower()+\" \"\n",
    "\ttext=new_text.strip()\n",
    "\treturn text\n",
    "\n",
    "# clean_string('the word \"pizza\" first appeared in a Latin text from the town of Gaeta, then still part of the Byzantine Empire, in 997 AD; the text states that a tenant of certain property is to give the bishop of Gaeta duodecim pizze (\"twelve pizzas\") every Christmas Day, and another twelve every Easter Sunday.Suggested etymologies include:')\n"
   ]
  },
  {
   "cell_type": "markdown",
   "metadata": {},
   "source": [
    "### Preform a wikipedia crawl\n"
   ]
  },
  {
   "cell_type": "code",
   "execution_count": 5,
   "metadata": {},
   "outputs": [
    {
     "name": "stdout",
     "output_type": "stream",
     "text": [
      "Pages for label = electric vehicle : ['Electric vehicle', 'History of the electric vehicle', 'Battery electric vehicle', 'Electric vehicle battery', 'Hybrid electric vehicle', 'Electric car use by country', 'Plug-in electric vehicle', 'List of production battery electric vehicles', 'Neighborhood Electric Vehicle', 'Hybrid vehicle drivetrain', 'Aptera (solar electric vehicle)', 'Citroën Ami (electric vehicle)', 'Electric car', 'Electric vehicle conversion', 'Hybrid vehicle', 'Plug-in hybrid', 'Capacitor electric vehicle', 'Charging station', 'Grumman LLV', 'London Electric Vehicle Company', 'Electric vehicle industry in China', 'Fuel cell vehicle', 'Plug-in electric vehicles in China', 'Electric Vehicle Company', 'Electric vehicle warning sounds']\n",
      "\t Electric vehicle\n",
      "\t History of the electric vehicle\n",
      "\t Battery electric vehicle\n",
      "\t Electric vehicle battery\n",
      "\t Hybrid electric vehicle\n",
      "\t Electric car use by country\n",
      "\t Plug-in electric vehicle\n",
      "WARNING: SOMETHING WENT WRONG: Plug-in electric vehicle\n",
      "\t List of production battery electric vehicles\n",
      "\t Neighborhood Electric Vehicle\n",
      "\t Hybrid vehicle drivetrain\n",
      "\t Aptera (solar electric vehicle)\n",
      "\t Citroën Ami (electric vehicle)\n",
      "\t Electric car\n",
      "\t Electric vehicle conversion\n",
      "\t Hybrid vehicle\n",
      "\t Plug-in hybrid\n",
      "\t Capacitor electric vehicle\n",
      "\t Charging station\n",
      "WARNING: SOMETHING WENT WRONG: Charging station\n",
      "\t Grumman LLV\n",
      "\t London Electric Vehicle Company\n",
      "\t Electric vehicle industry in China\n",
      "\t Fuel cell vehicle\n",
      "WARNING: SOMETHING WENT WRONG: Fuel cell vehicle\n",
      "\t Plug-in electric vehicles in China\n",
      "\t Electric Vehicle Company\n",
      "\t Electric vehicle warning sounds\n",
      "Pages for label = gasoline vehicle : ['Petrol engine', 'Flexible-fuel vehicle', 'Gasoline', 'Alternative fuel vehicle', 'Electric vehicle', 'Miles per gallon gasoline equivalent', 'Hybrid electric vehicle', 'Natural gas vehicle', 'Bi-fuel vehicle', 'Gasoline pump', 'Common ethanol fuel mixtures', 'Hydrogen internal combustion engine vehicle', 'Filling station', 'Idle (engine)', 'Gasoline gallon equivalent', 'Low-speed pre-ignition', 'History of the automobile', 'Exhaust gas', 'Monroney sticker', 'Green vehicle', 'Hydrogen vehicle', 'Ford-Utilimaster FFV', 'Automotive engine', 'Fuel efficiency', 'United States vehicle emission standards']\n",
      "\t Petrol engine\n",
      "\t Flexible-fuel vehicle\n",
      "\t Gasoline\n",
      "\t Alternative fuel vehicle\n",
      "\t Electric vehicle\n",
      "\t Miles per gallon gasoline equivalent\n",
      "\t Hybrid electric vehicle\n",
      "\t Natural gas vehicle\n",
      "\t Bi-fuel vehicle\n",
      "\t Gasoline pump\n",
      "\t Common ethanol fuel mixtures\n",
      "\t Hydrogen internal combustion engine vehicle\n",
      "\t Filling station\n",
      "\t Idle (engine)\n",
      "\t Gasoline gallon equivalent\n",
      "\t Low-speed pre-ignition\n",
      "\t History of the automobile\n",
      "\t Exhaust gas\n",
      "WARNING: SOMETHING WENT WRONG: Exhaust gas\n",
      "\t Monroney sticker\n",
      "\t Green vehicle\n",
      "\t Hydrogen vehicle\n",
      "\t Ford-Utilimaster FFV\n",
      "\t Automotive engine\n",
      "\t Fuel efficiency\n",
      "\t United States vehicle emission standards\n",
      "Pages for label = hybrid vehicle : ['Hybrid vehicle', 'Hybrid electric vehicle', 'Hybrid vehicle drivetrain', 'Plug-in hybrid', 'List of hybrid vehicles', 'Hybrid vehicle (disambiguation)', 'Hydraulic hybrid vehicle', 'Electric vehicle', 'Audi hybrid vehicles', 'Mild hybrid', 'Toyota Prius Plug-in Hybrid', 'Ford Fusion Hybrid', 'Plug-in electric vehicle', 'Compressed-air vehicle', 'Hybrid Synergy Drive', 'Toyota Highlander', 'Green vehicle', 'Electric vehicle warning sounds', 'Vehicle classification by propulsion system', 'Toyota concept vehicles (2000–2009)', 'Hybrid', 'Battery electric vehicle', 'Alternative fuel vehicle', 'Ford Escape', 'Hybrid Air Vehicles']\n",
      "\t Hybrid vehicle\n",
      "\t Hybrid electric vehicle\n",
      "\t Hybrid vehicle drivetrain\n",
      "\t Plug-in hybrid\n",
      "\t List of hybrid vehicles\n",
      "\t Hybrid vehicle (disambiguation)\n",
      "WARNING: SOMETHING WENT WRONG: Hybrid vehicle (disambiguation)\n",
      "\t Hydraulic hybrid vehicle\n",
      "\t Electric vehicle\n",
      "\t Audi hybrid vehicles\n",
      "\t Mild hybrid\n",
      "\t Toyota Prius Plug-in Hybrid\n",
      "\t Ford Fusion Hybrid\n",
      "\t Plug-in electric vehicle\n",
      "WARNING: SOMETHING WENT WRONG: Plug-in electric vehicle\n",
      "\t Compressed-air vehicle\n",
      "\t Hybrid Synergy Drive\n",
      "\t Toyota Highlander\n",
      "WARNING: SOMETHING WENT WRONG: Toyota Highlander\n",
      "\t Green vehicle\n",
      "\t Electric vehicle warning sounds\n",
      "\t Vehicle classification by propulsion system\n",
      "\t Toyota concept vehicles (2000–2009)\n",
      "WARNING: SOMETHING WENT WRONG: Toyota concept vehicles (2000–2009)\n",
      "\t Hybrid\n",
      "WARNING: SOMETHING WENT WRONG: Hybrid\n",
      "\t Battery electric vehicle\n",
      "\t Alternative fuel vehicle\n",
      "\t Ford Escape\n",
      "WARNING: SOMETHING WENT WRONG: Ford Escape\n",
      "\t Hybrid Air Vehicles\n"
     ]
    }
   ],
   "source": [
    "#INITIALIZE \n",
    "corpus=[]  # list of strings (input variables X)\n",
    "targets=[] # list of targets (labels or response variables Y)\n",
    "\n",
    "#--------------------------\n",
    "# LOOP OVER TOPICS \n",
    "#--------------------------\n",
    "for label in label_list:\n",
    "\n",
    "\t#SEARCH FOR RELEVANT PAGES \n",
    "\ttitles=wikipedia.search(label,results=max_num_pages)\n",
    "\tprint(\"Pages for label =\",label,\":\",titles)\n",
    "\n",
    "\t#LOOP OVER WIKI-PAGES\n",
    "\tfor title in titles:\n",
    "\t\ttry:\n",
    "\t\t\tprint(\"\t\",title)\n",
    "\t\t\twiki_page = wikipedia.page(title, auto_suggest=True)\n",
    "\n",
    "\t\t\t# LOOP OVER SECTIONS IN ARTICLE AND GET PAGE TEXT\n",
    "\t\t\tfor section in wiki_page.sections:\n",
    "\t\t\t\ttext=wiki_page.section(section); #print(text)\n",
    "\n",
    "\t\t\t\t#BREAK IN TO SENTANCES \n",
    "\t\t\t\tsentences=nltk.tokenize.sent_tokenize(text)\n",
    "\t\t\t\tcounter=0\n",
    "\t\t\t\ttext_chunk=''\n",
    "\n",
    "\t\t\t\t#LOOP OVER SENTENCES \n",
    "\t\t\t\tfor sentence in sentences:\n",
    "\t\t\t\t\tif len(sentence)>min_sentence_length:\n",
    "\t\t\t\t\t\tif(counter%sentence_per_chunk==0 and counter!=0):\n",
    "\t\t\t\t\t\t\t# PROCESS COMPLETED CHUNK \n",
    "\t\t\t\t\t\t\t\n",
    "\t\t\t\t\t\t\t# CLEAN STRING\n",
    "\t\t\t\t\t\t\ttext_chunk=clean_string(text_chunk)\n",
    "\n",
    "\t\t\t\t\t\t\t# REMOVE LABEL IF IN STRING (MAKES IT TOO EASY)\n",
    "\t\t\t\t\t\t\ttext_chunk=text_chunk.replace(label,\"\")\n",
    "\t\t\t\t\t\t\t\n",
    "\t\t\t\t\t\t\t# REMOVE ANY DOUBLE SPACES\n",
    "\t\t\t\t\t\t\ttext_chunk=' '.join(text_chunk.split()).strip()\n",
    "\n",
    "\t\t\t\t\t\t\t#UPDATE CORPUS \n",
    "\t\t\t\t\t\t\tcorpus.append(text_chunk)\n",
    "\n",
    "\t\t\t\t\t\t\t#UPDATE TARGETS\n",
    "\t\t\t\t\t\t\tscore=sia.polarity_scores(text_chunk)\n",
    "\t\t\t\t\t\t\ttarget=[label,score['compound']]\n",
    "\t\t\t\t\t\t\ttargets.append(target)\n",
    "\n",
    "\t\t\t\t\t\t\t#print(\"TEXT\\n\",text_chunk,target)\n",
    "\n",
    "\t\t\t\t\t\t\t# RESET CHUNK FOR NEXT ITERATION \n",
    "\t\t\t\t\t\t\ttext_chunk=sentence\n",
    "\t\t\t\t\t\telse:\n",
    "\t\t\t\t\t\t\ttext_chunk+=sentence\n",
    "\t\t\t\t\t\t#print(\"--------\\n\", sentence)\n",
    "\t\t\t\t\t\tcounter+=1\n",
    "\n",
    "\t\texcept:\n",
    "\t\t\tprint(\"WARNING: SOMETHING WENT WRONG:\", title);  \n"
   ]
  },
  {
   "cell_type": "markdown",
   "metadata": {},
   "source": [
    "### Save results"
   ]
  },
  {
   "cell_type": "code",
   "execution_count": 6,
   "metadata": {},
   "outputs": [
    {
     "name": "stdout",
     "output_type": "stream",
     "text": [
      "number of text chunks =  1173\n",
      "number of targets =  1173\n",
      "                                                   text             label  \\\n",
      "0     electric motive power started 1827 hungarian p...  electric vehicle   \n",
      "1     first mass produced appeared america early 190...  electric vehicle   \n",
      "2     20th century uk world largest user electric ro...  electric vehicle   \n",
      "3     1900 28 percent car road electric ev popular e...  electric vehicle   \n",
      "4     seldom marketed woman luxury car may stigma am...  electric vehicle   \n",
      "...                                                 ...               ...   \n",
      "1168  best known best selling steam powered car stan...    hybrid vehicle   \n",
      "1169  wind powered vehicle well known long time real...    hybrid vehicle   \n",
      "1170  wood gas used power car ordinary internal comb...    hybrid vehicle   \n",
      "1171  hybrid air vehicle formed 2007 roger munk jeff...    hybrid vehicle   \n",
      "1172  hav 304 developed military lemv project follow...    hybrid vehicle   \n",
      "\n",
      "      sentiment  \n",
      "0       -0.7506  \n",
      "1        0.9201  \n",
      "2        0.7096  \n",
      "3        0.9169  \n",
      "4        0.9231  \n",
      "...         ...  \n",
      "1168     0.9413  \n",
      "1169     0.4404  \n",
      "1170    -0.0347  \n",
      "1171     0.6808  \n",
      "1172    -0.4939  \n",
      "\n",
      "[1173 rows x 3 columns]\n"
     ]
    }
   ],
   "source": [
    "#SANITY CHECKS AND PRINT TO FILE \n",
    "print(\"number of text chunks = \",len(corpus))\n",
    "print(\"number of targets = \",len(targets))\n",
    "\n",
    "tmp=[]\n",
    "for i in range(0,len(corpus)):\n",
    "    tmp.append([corpus[i],targets[i][0],targets[i][1]])\n",
    "df=pd.DataFrame(tmp)\n",
    "df=df.rename(columns={0: \"text\", 1: \"label\", 2: \"sentiment\"})\n",
    "print(df)\n",
    "df.to_csv('ev-wiki-crawl-results.csv',index=False)"
   ]
  }
 ],
 "metadata": {
  "kernelspec": {
   "display_name": "Python 3.10.4 ('ANLY501')",
   "language": "python",
   "name": "python3"
  },
  "language_info": {
   "codemirror_mode": {
    "name": "ipython",
    "version": 3
   },
   "file_extension": ".py",
   "mimetype": "text/x-python",
   "name": "python",
   "nbconvert_exporter": "python",
   "pygments_lexer": "ipython3",
   "version": "3.11.5"
  },
  "orig_nbformat": 4,
  "vscode": {
   "interpreter": {
    "hash": "3bbb781ca6673b7d7a2eaec0820775eebfaab6ec1fac7365fb415515f8c23aa5"
   }
  }
 },
 "nbformat": 4,
 "nbformat_minor": 2
}
