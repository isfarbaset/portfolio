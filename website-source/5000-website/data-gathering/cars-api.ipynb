{
 "cells": [
  {
   "cell_type": "raw",
   "metadata": {},
   "source": [
    "---\n",
    "format:\n",
    "  html:\n",
    "    code-fold: true\n",
    "    code-summary: \"Show the code\"\n",
    "---"
   ]
  },
  {
   "cell_type": "markdown",
   "metadata": {},
   "source": [
    "![](apininjas_logo.png)"
   ]
  },
  {
   "cell_type": "markdown",
   "metadata": {},
   "source": [
    "# Data Source: [Cars API](https://api-ninjas.com/api/cars)"
   ]
  },
  {
   "cell_type": "markdown",
   "metadata": {},
   "source": [
    "This API provides a comprehensive dataset on various car models from leading automobile manufacturers, offering detailed insights into the characteristics of vehicles currently being produced. I chose this as a source for data collection due to the doucmentation provided, the ease of use, and the metrics that the API call provides. It seemed like a great starting off point to have this record data at hand."
   ]
  },
  {
   "cell_type": "markdown",
   "metadata": {},
   "source": [
    "We start off by importing the required python libraries:"
   ]
  },
  {
   "cell_type": "code",
   "execution_count": 1,
   "metadata": {},
   "outputs": [],
   "source": [
    "import requests\n",
    "import json"
   ]
  },
  {
   "cell_type": "markdown",
   "metadata": {},
   "source": [
    "### For one car model:"
   ]
  },
  {
   "cell_type": "markdown",
   "metadata": {},
   "source": [
    "The API operates by accepting the model of a specific car brand and then provides detailed information about that model. Initially, I tested it with a single car model to evaluate the structure of the output"
   ]
  },
  {
   "cell_type": "code",
   "execution_count": 2,
   "metadata": {},
   "outputs": [
    {
     "name": "stdout",
     "output_type": "stream",
     "text": [
      "[{\"city_mpg\": 18, \"class\": \"midsize car\", \"combination_mpg\": 21, \"cylinders\": 4, \"displacement\": 2.2, \"drive\": \"fwd\", \"fuel_type\": \"gas\", \"highway_mpg\": 26, \"make\": \"toyota\", \"model\": \"camry\", \"transmission\": \"a\", \"year\": 1993}, {\"city_mpg\": 19, \"class\": \"midsize car\", \"combination_mpg\": 22, \"cylinders\": 4, \"displacement\": 2.2, \"drive\": \"fwd\", \"fuel_type\": \"gas\", \"highway_mpg\": 27, \"make\": \"toyota\", \"model\": \"camry\", \"transmission\": \"m\", \"year\": 1993}, {\"city_mpg\": 16, \"class\": \"midsize car\", \"combination_mpg\": 19, \"cylinders\": 6, \"displacement\": 3.0, \"drive\": \"fwd\", \"fuel_type\": \"gas\", \"highway_mpg\": 22, \"make\": \"toyota\", \"model\": \"camry\", \"transmission\": \"a\", \"year\": 1993}, {\"city_mpg\": 16, \"class\": \"midsize car\", \"combination_mpg\": 18, \"cylinders\": 6, \"displacement\": 3.0, \"drive\": \"fwd\", \"fuel_type\": \"gas\", \"highway_mpg\": 22, \"make\": \"toyota\", \"model\": \"camry\", \"transmission\": \"m\", \"year\": 1993}, {\"city_mpg\": 18, \"class\": \"midsize-large station wagon\", \"combination_mpg\": 21, \"cylinders\": 4, \"displacement\": 2.2, \"drive\": \"fwd\", \"fuel_type\": \"gas\", \"highway_mpg\": 26, \"make\": \"toyota\", \"model\": \"camry wagon\", \"transmission\": \"a\", \"year\": 1993}]\n"
     ]
    }
   ],
   "source": [
    "model = 'camry'\n",
    "\n",
    "api_url = 'https://api.api-ninjas.com/v1/cars?model={}'.format(model)\n",
    "response = requests.get(api_url, headers={'X-Api-Key': 'rtsVUhXvel9N968aGEoMeg==zciz73lsmuFNEOQM'})\n",
    "if response.status_code == requests.codes.ok:\n",
    "    print(response.text)\n",
    "else:\n",
    "    print(\"Error:\", response.status_code, response.text)"
   ]
  },
  {
   "cell_type": "markdown",
   "metadata": {},
   "source": [
    "The json output shows fields that could be very useful in extracting meaningful data points"
   ]
  },
  {
   "cell_type": "markdown",
   "metadata": {},
   "source": [
    "### Multiple car models:"
   ]
  },
  {
   "cell_type": "markdown",
   "metadata": {},
   "source": [
    "In this attempt the API is fed with a longer list of car models from many different OEMs so that I can get a large set of data to work with"
   ]
  },
  {
   "cell_type": "markdown",
   "metadata": {},
   "source": [
    "> Please toggle each code block to learn more about the data collection process. "
   ]
  },
  {
   "cell_type": "code",
   "execution_count": 3,
   "metadata": {},
   "outputs": [],
   "source": [
    "# Lists of car models for each manufacturer\n",
    "# asked chatgpt to provide model names of the different car brands\n",
    "# chat gpt prompt: provide multiple models of these car brands\n",
    "\n",
    "toyota_models = ['Camry', 'Corolla', 'RAV4', 'Highlander', 'Prius', 'Tacoma', 'Tundra', 'Yaris', 'Avalon', '4Runner', 'Supra', 'Sienna', 'Land Cruiser', 'C-HR']\n",
    "tesla_models = ['Model S', 'Model 3', 'Model X', 'Model Y', 'Roadster', 'Cybertruck', 'Semi']\n",
    "stla_models = ['Ram 1500', 'Jeep Wrangler', 'Fiat 500', 'Dodge Charger', 'Chrysler Pacifica', 'Alfa Romeo Giulia', 'Maserati Ghibli', 'Lancia Ypsilon', 'Dodge Challenger']\n",
    "gm_models = ['Chevrolet Silverado', 'GMC Sierra', 'Cadillac Escalade', 'Chevrolet Tahoe', 'Buick Enclave', 'GMC Yukon', 'Chevrolet Camaro', 'Chevrolet Malibu', 'Chevrolet Equinox', 'Cadillac CT5']\n",
    "nissan_models = ['Altima', 'Rogue', 'Leaf', 'Sentra', 'Pathfinder', 'Murano', 'Maxima', 'Frontier', 'Juke', 'Xterra', 'Versa', 'Armada']\n",
    "mercedes_models = ['C-Class', 'E-Class', 'S-Class', 'GLC', 'GLE', 'A-Class', 'CLS', 'GLS', 'GLA', 'GLB', 'AMG GT', 'SLC']\n",
    "bmw_models = ['3 Series', 'X5', 'i3', '5 Series', 'X3', 'X1', '2 Series', 'Z4', '7 Series', 'i8', '1 Series', '6 Series']\n",
    "porsche_models = ['911', 'Cayenne', 'Taycan', 'Panamera', 'Macan', '718 Boxster', '718 Cayman', 'Carrera GT', 'Panamera']\n",
    "ford_models = ['F-150', 'Mustang', 'Explorer', 'Focus', 'Fiesta', 'Ranger', 'Escape', 'Bronco', 'Edge', 'Expedition']\n",
    "audi_models = ['A4', 'A6', 'Q5', 'Q7', 'A3', 'A8', 'Q3', 'TT', 'R8', 'A5', 'Q8']\n",
    "honda_models = ['Civic', 'Accord', 'CR-V', 'Pilot', 'Fit', 'HR-V', 'Odyssey', 'Ridgeline']\n",
    "volkswagen_models = ['Golf', 'Passat', 'Tiguan', 'Jetta', 'Arteon', 'Atlas', 'Beetle', 'Polo']\n",
    "hyundai_models = ['Sonata', 'Elantra', 'Tucson', 'Santa Fe', 'Kona', 'Veloster', 'Ioniq', 'Palisade']\n",
    "kia_models = ['Sorento', 'Optima', 'Sportage', 'Soul', 'Forte', 'Telluride', 'Stinger', 'Niro']\n",
    "mazda_models = ['MX-5', 'CX-5', 'Mazda3', 'Mazda6', 'CX-30']\n",
    "subaru_models = ['Outback', 'Forester', 'Impreza', 'BRZ', 'Ascent']"
   ]
  },
  {
   "cell_type": "code",
   "execution_count": 4,
   "metadata": {},
   "outputs": [],
   "source": [
    "import requests\n",
    "import json\n",
    "\n",
    "# Expanded lists of electric and hybrid vehicles\n",
    "toyota_models += ['Prius Prime', 'RAV4 Prime', 'Mirai']\n",
    "tesla_models += ['Model 3 Long Range', 'Model 3 Performance', 'Model S Plaid', 'Model X Long Range']\n",
    "gm_models += ['Chevrolet Bolt EV', 'Chevrolet Bolt EUV', 'GMC Hummer EV', 'Cadillac Lyriq']\n",
    "nissan_models += ['Ariya', 'Leaf e+', 'e-NV200']\n",
    "bmw_models += ['i4', 'iX', 'i8 Roadster', '330e', '530e']\n",
    "mercedes_models += ['EQS', 'EQA', 'EQB', 'EQC', 'EQV']\n",
    "audi_models += ['e-tron', 'e-tron GT', 'Q4 e-tron', 'A7 Sportback e']\n",
    "porsche_models += ['Taycan Turbo', 'Taycan Turbo S', 'Taycan 4S', 'Panamera E-Hybrid']\n",
    "ford_models += ['Mustang Mach-E', 'F-150 Lightning', 'Escape Plug-In Hybrid']\n",
    "volkswagen_models += ['ID.3', 'ID.4', 'e-Golf', 'Touareg Hybrid']\n",
    "hyundai_models += ['Kona Electric', 'Ioniq Electric', 'Tucson Plug-In Hybrid']\n",
    "kia_models += ['Niro EV', 'Soul EV', 'Sorento Plug-In Hybrid']\n",
    "volvo_models = ['XC40 Recharge', 'C40 Recharge', 'S90 Plug-In Hybrid']\n",
    "jaguar_models = ['I-PACE']\n",
    "lucid_models = ['Lucid Air']\n",
    "rivian_models = ['R1T', 'R1S']"
   ]
  },
  {
   "cell_type": "markdown",
   "metadata": {},
   "source": [
    "### Final json output containing data about several car models that were used while making the API GET request"
   ]
  },
  {
   "cell_type": "code",
   "execution_count": 5,
   "metadata": {},
   "outputs": [
    {
     "name": "stdout",
     "output_type": "stream",
     "text": [
      "JSON data saved to car_models_data.json\n"
     ]
    }
   ],
   "source": [
    "# Combine all lists into one\n",
    "all_models = toyota_models + tesla_models + stla_models + gm_models + nissan_models + mercedes_models + bmw_models + \n",
    "porsche_models + ford_models + audi_models + honda_models + volkswagen_models + hyundai_models + kia_models + mazda_models + \n",
    "subaru_models + volvo_models + jaguar_models + lucid_models + rivian_models\n",
    "\n",
    "# Dictionary to store data for all models\n",
    "all_data = {}\n",
    "\n",
    "# Loop through each model and make the API call\n",
    "for model in all_models:\n",
    "    api_url = f'https://api.api-ninjas.com/v1/cars?model={model}'\n",
    "    response = requests.get(api_url, headers={'X-Api-Key': 'rtsVUhXvel9N968aGEoMeg==zciz73lsmuFNEOQM'})\n",
    "\n",
    "    if response.status_code == requests.codes.ok:\n",
    "        # Add the response data to the dictionary\n",
    "        all_data[model] = response.json()\n",
    "    else:\n",
    "        print(f\"Error for {model}: {response.status_code} {response.text}\")\n",
    "\n",
    "# Convert the dictionary to a JSON string\n",
    "json_data = json.dumps(all_data, indent=4)\n",
    "\n",
    "# Write the JSON data to a file\n",
    "with open('cars.json', 'w') as file:\n",
    "    file.write(json_data)\n",
    "\n",
    "print(\"JSON data saved to car_models_data.json\")"
   ]
  },
  {
   "cell_type": "markdown",
   "metadata": {},
   "source": [
    "## Read Data from JSON File and Save as a Dataframe"
   ]
  },
  {
   "cell_type": "code",
   "execution_count": 6,
   "metadata": {},
   "outputs": [
    {
     "data": {
      "text/html": [
       "<div>\n",
       "<style scoped>\n",
       "    .dataframe tbody tr th:only-of-type {\n",
       "        vertical-align: middle;\n",
       "    }\n",
       "\n",
       "    .dataframe tbody tr th {\n",
       "        vertical-align: top;\n",
       "    }\n",
       "\n",
       "    .dataframe thead th {\n",
       "        text-align: right;\n",
       "    }\n",
       "</style>\n",
       "<table border=\"1\" class=\"dataframe\">\n",
       "  <thead>\n",
       "    <tr style=\"text-align: right;\">\n",
       "      <th></th>\n",
       "      <th>city_mpg</th>\n",
       "      <th>class</th>\n",
       "      <th>combination_mpg</th>\n",
       "      <th>cylinders</th>\n",
       "      <th>displacement</th>\n",
       "      <th>drive</th>\n",
       "      <th>fuel_type</th>\n",
       "      <th>highway_mpg</th>\n",
       "      <th>make</th>\n",
       "      <th>model</th>\n",
       "      <th>transmission</th>\n",
       "      <th>year</th>\n",
       "    </tr>\n",
       "  </thead>\n",
       "  <tbody>\n",
       "    <tr>\n",
       "      <th>0</th>\n",
       "      <td>18</td>\n",
       "      <td>midsize car</td>\n",
       "      <td>21</td>\n",
       "      <td>4.0</td>\n",
       "      <td>2.2</td>\n",
       "      <td>fwd</td>\n",
       "      <td>gas</td>\n",
       "      <td>26</td>\n",
       "      <td>toyota</td>\n",
       "      <td>Camry</td>\n",
       "      <td>a</td>\n",
       "      <td>1993</td>\n",
       "    </tr>\n",
       "    <tr>\n",
       "      <th>1</th>\n",
       "      <td>19</td>\n",
       "      <td>midsize car</td>\n",
       "      <td>22</td>\n",
       "      <td>4.0</td>\n",
       "      <td>2.2</td>\n",
       "      <td>fwd</td>\n",
       "      <td>gas</td>\n",
       "      <td>27</td>\n",
       "      <td>toyota</td>\n",
       "      <td>Camry</td>\n",
       "      <td>m</td>\n",
       "      <td>1993</td>\n",
       "    </tr>\n",
       "    <tr>\n",
       "      <th>2</th>\n",
       "      <td>16</td>\n",
       "      <td>midsize car</td>\n",
       "      <td>19</td>\n",
       "      <td>6.0</td>\n",
       "      <td>3.0</td>\n",
       "      <td>fwd</td>\n",
       "      <td>gas</td>\n",
       "      <td>22</td>\n",
       "      <td>toyota</td>\n",
       "      <td>Camry</td>\n",
       "      <td>a</td>\n",
       "      <td>1993</td>\n",
       "    </tr>\n",
       "    <tr>\n",
       "      <th>3</th>\n",
       "      <td>16</td>\n",
       "      <td>midsize car</td>\n",
       "      <td>18</td>\n",
       "      <td>6.0</td>\n",
       "      <td>3.0</td>\n",
       "      <td>fwd</td>\n",
       "      <td>gas</td>\n",
       "      <td>22</td>\n",
       "      <td>toyota</td>\n",
       "      <td>Camry</td>\n",
       "      <td>m</td>\n",
       "      <td>1993</td>\n",
       "    </tr>\n",
       "    <tr>\n",
       "      <th>4</th>\n",
       "      <td>18</td>\n",
       "      <td>midsize-large station wagon</td>\n",
       "      <td>21</td>\n",
       "      <td>4.0</td>\n",
       "      <td>2.2</td>\n",
       "      <td>fwd</td>\n",
       "      <td>gas</td>\n",
       "      <td>26</td>\n",
       "      <td>toyota</td>\n",
       "      <td>Camry</td>\n",
       "      <td>a</td>\n",
       "      <td>1993</td>\n",
       "    </tr>\n",
       "    <tr>\n",
       "      <th>...</th>\n",
       "      <td>...</td>\n",
       "      <td>...</td>\n",
       "      <td>...</td>\n",
       "      <td>...</td>\n",
       "      <td>...</td>\n",
       "      <td>...</td>\n",
       "      <td>...</td>\n",
       "      <td>...</td>\n",
       "      <td>...</td>\n",
       "      <td>...</td>\n",
       "      <td>...</td>\n",
       "      <td>...</td>\n",
       "    </tr>\n",
       "    <tr>\n",
       "      <th>714</th>\n",
       "      <td>80</td>\n",
       "      <td>small sport utility vehicle</td>\n",
       "      <td>76</td>\n",
       "      <td>NaN</td>\n",
       "      <td>NaN</td>\n",
       "      <td>4wd</td>\n",
       "      <td>electricity</td>\n",
       "      <td>72</td>\n",
       "      <td>jaguar</td>\n",
       "      <td>I-PACE</td>\n",
       "      <td>a</td>\n",
       "      <td>2021</td>\n",
       "    </tr>\n",
       "    <tr>\n",
       "      <th>715</th>\n",
       "      <td>89</td>\n",
       "      <td>small sport utility vehicle</td>\n",
       "      <td>85</td>\n",
       "      <td>NaN</td>\n",
       "      <td>NaN</td>\n",
       "      <td>4wd</td>\n",
       "      <td>electricity</td>\n",
       "      <td>82</td>\n",
       "      <td>jaguar</td>\n",
       "      <td>I-PACE</td>\n",
       "      <td>a</td>\n",
       "      <td>2023</td>\n",
       "    </tr>\n",
       "    <tr>\n",
       "      <th>716</th>\n",
       "      <td>79</td>\n",
       "      <td>small sport utility vehicle</td>\n",
       "      <td>76</td>\n",
       "      <td>NaN</td>\n",
       "      <td>NaN</td>\n",
       "      <td>4wd</td>\n",
       "      <td>electricity</td>\n",
       "      <td>72</td>\n",
       "      <td>jaguar</td>\n",
       "      <td>I-PACE</td>\n",
       "      <td>a</td>\n",
       "      <td>2023</td>\n",
       "    </tr>\n",
       "    <tr>\n",
       "      <th>717</th>\n",
       "      <td>74</td>\n",
       "      <td>standard pickup truck</td>\n",
       "      <td>70</td>\n",
       "      <td>NaN</td>\n",
       "      <td>NaN</td>\n",
       "      <td>4wd</td>\n",
       "      <td>electricity</td>\n",
       "      <td>66</td>\n",
       "      <td>rivian</td>\n",
       "      <td>R1T</td>\n",
       "      <td>a</td>\n",
       "      <td>2022</td>\n",
       "    </tr>\n",
       "    <tr>\n",
       "      <th>718</th>\n",
       "      <td>73</td>\n",
       "      <td>standard sport utility vehicle</td>\n",
       "      <td>69</td>\n",
       "      <td>NaN</td>\n",
       "      <td>NaN</td>\n",
       "      <td>4wd</td>\n",
       "      <td>electricity</td>\n",
       "      <td>65</td>\n",
       "      <td>rivian</td>\n",
       "      <td>R1S</td>\n",
       "      <td>a</td>\n",
       "      <td>2022</td>\n",
       "    </tr>\n",
       "  </tbody>\n",
       "</table>\n",
       "<p>719 rows × 12 columns</p>\n",
       "</div>"
      ],
      "text/plain": [
       "     city_mpg                           class  combination_mpg  cylinders  \\\n",
       "0          18                     midsize car               21        4.0   \n",
       "1          19                     midsize car               22        4.0   \n",
       "2          16                     midsize car               19        6.0   \n",
       "3          16                     midsize car               18        6.0   \n",
       "4          18     midsize-large station wagon               21        4.0   \n",
       "..        ...                             ...              ...        ...   \n",
       "714        80     small sport utility vehicle               76        NaN   \n",
       "715        89     small sport utility vehicle               85        NaN   \n",
       "716        79     small sport utility vehicle               76        NaN   \n",
       "717        74           standard pickup truck               70        NaN   \n",
       "718        73  standard sport utility vehicle               69        NaN   \n",
       "\n",
       "     displacement drive    fuel_type  highway_mpg    make   model  \\\n",
       "0             2.2   fwd          gas           26  toyota   Camry   \n",
       "1             2.2   fwd          gas           27  toyota   Camry   \n",
       "2             3.0   fwd          gas           22  toyota   Camry   \n",
       "3             3.0   fwd          gas           22  toyota   Camry   \n",
       "4             2.2   fwd          gas           26  toyota   Camry   \n",
       "..            ...   ...          ...          ...     ...     ...   \n",
       "714           NaN   4wd  electricity           72  jaguar  I-PACE   \n",
       "715           NaN   4wd  electricity           82  jaguar  I-PACE   \n",
       "716           NaN   4wd  electricity           72  jaguar  I-PACE   \n",
       "717           NaN   4wd  electricity           66  rivian     R1T   \n",
       "718           NaN   4wd  electricity           65  rivian     R1S   \n",
       "\n",
       "    transmission  year  \n",
       "0              a  1993  \n",
       "1              m  1993  \n",
       "2              a  1993  \n",
       "3              m  1993  \n",
       "4              a  1993  \n",
       "..           ...   ...  \n",
       "714            a  2021  \n",
       "715            a  2023  \n",
       "716            a  2023  \n",
       "717            a  2022  \n",
       "718            a  2022  \n",
       "\n",
       "[719 rows x 12 columns]"
      ]
     },
     "execution_count": 6,
     "metadata": {},
     "output_type": "execute_result"
    }
   ],
   "source": [
    "import pandas as pd\n",
    "import json\n",
    "\n",
    "# Read the JSON file\n",
    "file_path = 'cars.json'\n",
    "with open(file_path, 'r') as file:\n",
    "    data = json.load(file)\n",
    "\n",
    "# Convert the JSON data to a pandas DataFrame\n",
    "df_list = []\n",
    "for model, records in data.items():\n",
    "    for record in records:\n",
    "        # Add the model name to each record\n",
    "        record['model'] = model\n",
    "        df_list.append(record)\n",
    "\n",
    "# Create DataFrame from the list of dictionaries\n",
    "cars_df = pd.DataFrame(df_list)\n",
    "\n",
    "cars_df"
   ]
  },
  {
   "cell_type": "markdown",
   "metadata": {},
   "source": [
    "### Save Output"
   ]
  },
  {
   "cell_type": "code",
   "execution_count": 7,
   "metadata": {},
   "outputs": [],
   "source": [
    "cars_df.to_csv('cars-data.csv')"
   ]
  },
  {
   "cell_type": "markdown",
   "metadata": {},
   "source": [
    "# Resources"
   ]
  },
  {
   "cell_type": "markdown",
   "metadata": {},
   "source": [
    "- https://api-ninjas.com/api/cars\n",
    "- https://en.wikipedia.org/wiki/List_of_largest_manufacturing_companies_by_revenue"
   ]
  }
 ],
 "metadata": {
  "kernelspec": {
   "display_name": "base",
   "language": "python",
   "name": "python3"
  },
  "language_info": {
   "codemirror_mode": {
    "name": "ipython",
    "version": 3
   },
   "file_extension": ".py",
   "mimetype": "text/x-python",
   "name": "python",
   "nbconvert_exporter": "python",
   "pygments_lexer": "ipython3",
   "version": "3.11.5"
  },
  "orig_nbformat": 4
 },
 "nbformat": 4,
 "nbformat_minor": 2
}
